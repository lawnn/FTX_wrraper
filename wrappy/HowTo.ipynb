{
 "cells": [
  {
   "cell_type": "markdown",
   "id": "edfb7e4a",
   "metadata": {},
   "source": [
    "# import"
   ]
  },
  {
   "cell_type": "code",
   "execution_count": null,
   "id": "42c37184",
   "metadata": {},
   "outputs": [],
   "source": [
    "from wrappy import util\n",
    "import glob\n",
    "import polars as pl"
   ]
  },
  {
   "cell_type": "markdown",
   "id": "6bce3a12",
   "metadata": {},
   "source": [
    "# bitflyer約定履歴取得"
   ]
  },
  {
   "cell_type": "code",
   "execution_count": null,
   "id": "cd094603",
   "metadata": {},
   "outputs": [],
   "source": [
    "util.bf_get_trades('2023/02/01 00:00:00', '2023/02/10 00:00:00')"
   ]
  },
  {
   "cell_type": "markdown",
   "id": "463b50e4",
   "metadata": {},
   "source": [
    "# 複数の約定履歴をまとめる"
   ]
  },
  {
   "cell_type": "code",
   "execution_count": null,
   "id": "e5a35494",
   "metadata": {},
   "outputs": [],
   "source": [
    "dir_path = \"bitflyer/FX_BTC_JPY/trades/*.csv\" # ファイルパス\n",
    "csv_files = glob.glob(dir_path) # 拡張子が「*csv」だけのファイルを返す\n",
    "path = [ csv_i for csv_i in csv_files] # フォルダ内のすべてのcsvファイルの名前をリストにする\n",
    "# フォルダ内のすべてのcsvファイルを読み込みリストにする\n",
    "df_concat = [(\n",
    "      pl.read_csv(path_i)\n",
    "      .with_columns(pl.col(\"exec_date\").str.strptime(pl.Datetime, strict=False))\n",
    "      ) for path_i in path] \n",
    "df_concat = pl.concat(df_concat) # 縦に結合\n",
    "df_concat = df_concat.unique() # 重複行削除\n",
    "df_concat.write_csv(\"2023-01-17_2023-02-24.csv\") # csv書き出し"
   ]
  },
  {
   "cell_type": "markdown",
   "id": "56290312",
   "metadata": {},
   "source": [
    "# csvファイル読み込みから1秒足を作るまでワンライナーでやる見本(遅延評価有)"
   ]
  },
  {
   "cell_type": "code",
   "execution_count": null,
   "id": "2d1321b3",
   "metadata": {},
   "outputs": [],
   "source": [
    "# 遅延評価有で1秒速くなる\n",
    "df = (\n",
    "      pl.scan_csv(\"bitflyer/FX_BTC_JPY/trades/2023-01-17_2023-02-24.csv\")\n",
    "      .with_columns(pl.col(\"exec_date\").str.strptime(pl.Datetime, strict=False))\n",
    "      .with_columns(pl.when(pl.col('side') == 'BUY').then(pl.col('size')).otherwise(0).alias('buy_size'))\n",
    "      .with_columns(pl.when(pl.col('side') == 'SELL').then(pl.col('size')).otherwise(0).alias('sell_size'))\n",
    "      .groupby_dynamic('exec_date', every='1s')\n",
    "      .agg([\n",
    "          pl.col('price').first().alias('open'),\n",
    "          pl.col('price').max().alias('high'),\n",
    "          pl.col('price').min().alias('low'),\n",
    "          pl.col('price').last().alias('close'),\n",
    "          pl.col('size').sum().alias('volume'),\n",
    "          pl.col('buy_size').sum().alias('buy_vol'),\n",
    "          pl.col('sell_size').sum().alias('sell_vol'),\n",
    "          ])\n",
    "      .collect()\n",
    "      )"
   ]
  }
 ],
 "metadata": {
  "kernelspec": {
   "display_name": "Python 3 (ipykernel)",
   "language": "python",
   "name": "python3"
  },
  "language_info": {
   "codemirror_mode": {
    "name": "ipython",
    "version": 3
   },
   "file_extension": ".py",
   "mimetype": "text/x-python",
   "name": "python",
   "nbconvert_exporter": "python",
   "pygments_lexer": "ipython3",
   "version": "3.8.13"
  }
 },
 "nbformat": 4,
 "nbformat_minor": 5
}
